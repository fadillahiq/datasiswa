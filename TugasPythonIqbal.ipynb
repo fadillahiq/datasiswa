{
 "cells": [
  {
   "cell_type": "code",
   "execution_count": 14,
   "metadata": {},
   "outputs": [
    {
     "name": "stdout",
     "output_type": "stream",
     "text": [
      "******************************\n",
      "NIS : 31432\n",
      "Nama : ewrw\n",
      "JK : werew\n",
      "Rombel : werew\n",
      "Rayon : we\n",
      "Nilai B.Indonesia : 50\n",
      "Nilai Matematika : 50\n",
      "Nilai B.Inggris : 50\n",
      "******************************\n",
      "Laporan Nilai Akhir Semester\n",
      "SMK Wikrama Bogor\n",
      "------Data Diri------\n",
      "NIS :  31432\n",
      "Nama :  ewrw\n",
      "JK :  werew\n",
      "Rombel :  werew\n",
      "Rayon :  we\n",
      "------Nilai------\n",
      "Bahasa Indonesia :  50\n",
      "Matematika :  50\n",
      "Bahasa Inggris :  50\n",
      "Rata-Rata Nilai :  50.0\n",
      "Nilai Kriteria : Tidak Lulus\n"
     ]
    }
   ],
   "source": [
    "\n",
    "print (\"*\"*30)\n",
    "nis = int(input(\"NIS : \"))\n",
    "nama = input(\"Nama : \")\n",
    "jk = input(\"JK : \")\n",
    "romb = input(\"Rombel : \")\n",
    "rayon = input(\"Rayon : \")\n",
    "indo = int(input(\"Nilai B.Indonesia : \"))\n",
    "mtk = int(input(\"Nilai Matematika : \"))\n",
    "ing = int(input(\"Nilai B.Inggris : \"))\n",
    "print (\"*\"*30)\n",
    "print (\"Laporan Nilai Akhir Semester\")\n",
    "print (\"SMK Wikrama Bogor\")\n",
    "print (\"------Data Diri------\")\n",
    "print (\"NIS : \" , nis)\n",
    "print (\"Nama : \" , nama)\n",
    "print (\"JK : \" , jk)\n",
    "print (\"Rombel : \" , romb)\n",
    "print (\"Rayon : \" , rayon)\n",
    "print (\"------Nilai------\")\n",
    "print (\"Bahasa Indonesia : \" , indo)\n",
    "print (\"Matematika : \" , mtk)\n",
    "print (\"Bahasa Inggris : \" , ing)\n",
    "rata = int\n",
    "rata = (indo+ing+mtk)/3\n",
    "print (\"Rata-Rata Nilai : \" , rata)\n",
    "if rata >=75:\n",
    "    print (\"Nilai Kriteria : Lulus\")\n",
    "else:\n",
    "    print(\"Nilai Kriteria : Tidak Lulus\")\n"
   ]
  },
  {
   "cell_type": "code",
   "execution_count": null,
   "metadata": {},
   "outputs": [],
   "source": []
  },
  {
   "cell_type": "code",
   "execution_count": null,
   "metadata": {},
   "outputs": [],
   "source": []
  }
 ],
 "metadata": {
  "kernelspec": {
   "display_name": "Python 3",
   "language": "python",
   "name": "python3"
  },
  "language_info": {
   "codemirror_mode": {
    "name": "ipython",
    "version": 3
   },
   "file_extension": ".py",
   "mimetype": "text/x-python",
   "name": "python",
   "nbconvert_exporter": "python",
   "pygments_lexer": "ipython3",
   "version": "3.7.1"
  }
 },
 "nbformat": 4,
 "nbformat_minor": 2
}
